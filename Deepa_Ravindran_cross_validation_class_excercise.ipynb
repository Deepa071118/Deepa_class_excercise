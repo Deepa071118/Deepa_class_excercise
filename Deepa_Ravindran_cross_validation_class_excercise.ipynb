{
  "nbformat": 4,
  "nbformat_minor": 0,
  "metadata": {
    "colab": {
      "provenance": []
    },
    "kernelspec": {
      "name": "python3",
      "display_name": "Python 3"
    },
    "language_info": {
      "name": "python"
    }
  },
  "cells": [
    {
      "cell_type": "code",
      "execution_count": 159,
      "metadata": {
        "id": "PhtrSaVJ4Ei8"
      },
      "outputs": [],
      "source": [
        "import numpy as np\n",
        "import pandas as pd\n",
        "import matplotlib.pyplot as plt\n",
        "%matplotlib inline\n",
        "import seaborn as sns"
      ]
    },
    {
      "cell_type": "code",
      "source": [
        "df=pd.read_csv('loan_dataset_new')"
      ],
      "metadata": {
        "id": "RggsPKHp4Uby"
      },
      "execution_count": 160,
      "outputs": []
    },
    {
      "cell_type": "code",
      "source": [
        "df.head()"
      ],
      "metadata": {
        "colab": {
          "base_uri": "https://localhost:8080/",
          "height": 334
        },
        "id": "8ffQv3hi4zOA",
        "outputId": "1f06b3b6-b8a2-48d0-d202-1d54e6b1a0ca"
      },
      "execution_count": 161,
      "outputs": [
        {
          "output_type": "execute_result",
          "data": {
            "text/plain": [
              "        loan_id source       financial_institution  interest_rate  \\\n",
              "0  268055008619      Z  Turner, Baldwin and Rhodes          4.250   \n",
              "1  672831657627      Y  Swanson, Newton and Miller          4.875   \n",
              "2  742515242108      Z              Thornton-Davis          3.250   \n",
              "3  601385667462      X                       OTHER          4.750   \n",
              "4  273870029961      X                       OTHER          4.750   \n",
              "\n",
              "   unpaid_principal_bal  loan_term origination_date first_payment_date  \\\n",
              "0                214000        360       2012-03-01            05/2012   \n",
              "1                144000        360       2012-01-01            03/2012   \n",
              "2                366000        180       2012-01-01            03/2012   \n",
              "3                135000        360       2012-02-01            04/2012   \n",
              "4                124000        360       2012-02-01            04/2012   \n",
              "\n",
              "   loan_to_value  number_of_borrowers  ...  m4  m5 m6  m7  m8  m9  m10  m11  \\\n",
              "0             95                  1.0  ...   0   0  0   1   0   0    0    0   \n",
              "1             72                  1.0  ...   0   0  0   0   0   0    0    1   \n",
              "2             49                  1.0  ...   0   0  0   0   0   0    0    0   \n",
              "3             46                  2.0  ...   0   0  0   0   0   1    1    1   \n",
              "4             80                  1.0  ...   3   4  5   6   7   8    9   10   \n",
              "\n",
              "   m12  m13  \n",
              "0    0    1  \n",
              "1    0    1  \n",
              "2    0    1  \n",
              "3    1    1  \n",
              "4   11    1  \n",
              "\n",
              "[5 rows x 29 columns]"
            ],
            "text/html": [
              "\n",
              "  <div id=\"df-25b436c8-cc34-4afa-b2c8-ab137e0c8432\">\n",
              "    <div class=\"colab-df-container\">\n",
              "      <div>\n",
              "<style scoped>\n",
              "    .dataframe tbody tr th:only-of-type {\n",
              "        vertical-align: middle;\n",
              "    }\n",
              "\n",
              "    .dataframe tbody tr th {\n",
              "        vertical-align: top;\n",
              "    }\n",
              "\n",
              "    .dataframe thead th {\n",
              "        text-align: right;\n",
              "    }\n",
              "</style>\n",
              "<table border=\"1\" class=\"dataframe\">\n",
              "  <thead>\n",
              "    <tr style=\"text-align: right;\">\n",
              "      <th></th>\n",
              "      <th>loan_id</th>\n",
              "      <th>source</th>\n",
              "      <th>financial_institution</th>\n",
              "      <th>interest_rate</th>\n",
              "      <th>unpaid_principal_bal</th>\n",
              "      <th>loan_term</th>\n",
              "      <th>origination_date</th>\n",
              "      <th>first_payment_date</th>\n",
              "      <th>loan_to_value</th>\n",
              "      <th>number_of_borrowers</th>\n",
              "      <th>...</th>\n",
              "      <th>m4</th>\n",
              "      <th>m5</th>\n",
              "      <th>m6</th>\n",
              "      <th>m7</th>\n",
              "      <th>m8</th>\n",
              "      <th>m9</th>\n",
              "      <th>m10</th>\n",
              "      <th>m11</th>\n",
              "      <th>m12</th>\n",
              "      <th>m13</th>\n",
              "    </tr>\n",
              "  </thead>\n",
              "  <tbody>\n",
              "    <tr>\n",
              "      <th>0</th>\n",
              "      <td>268055008619</td>\n",
              "      <td>Z</td>\n",
              "      <td>Turner, Baldwin and Rhodes</td>\n",
              "      <td>4.250</td>\n",
              "      <td>214000</td>\n",
              "      <td>360</td>\n",
              "      <td>2012-03-01</td>\n",
              "      <td>05/2012</td>\n",
              "      <td>95</td>\n",
              "      <td>1.0</td>\n",
              "      <td>...</td>\n",
              "      <td>0</td>\n",
              "      <td>0</td>\n",
              "      <td>0</td>\n",
              "      <td>1</td>\n",
              "      <td>0</td>\n",
              "      <td>0</td>\n",
              "      <td>0</td>\n",
              "      <td>0</td>\n",
              "      <td>0</td>\n",
              "      <td>1</td>\n",
              "    </tr>\n",
              "    <tr>\n",
              "      <th>1</th>\n",
              "      <td>672831657627</td>\n",
              "      <td>Y</td>\n",
              "      <td>Swanson, Newton and Miller</td>\n",
              "      <td>4.875</td>\n",
              "      <td>144000</td>\n",
              "      <td>360</td>\n",
              "      <td>2012-01-01</td>\n",
              "      <td>03/2012</td>\n",
              "      <td>72</td>\n",
              "      <td>1.0</td>\n",
              "      <td>...</td>\n",
              "      <td>0</td>\n",
              "      <td>0</td>\n",
              "      <td>0</td>\n",
              "      <td>0</td>\n",
              "      <td>0</td>\n",
              "      <td>0</td>\n",
              "      <td>0</td>\n",
              "      <td>1</td>\n",
              "      <td>0</td>\n",
              "      <td>1</td>\n",
              "    </tr>\n",
              "    <tr>\n",
              "      <th>2</th>\n",
              "      <td>742515242108</td>\n",
              "      <td>Z</td>\n",
              "      <td>Thornton-Davis</td>\n",
              "      <td>3.250</td>\n",
              "      <td>366000</td>\n",
              "      <td>180</td>\n",
              "      <td>2012-01-01</td>\n",
              "      <td>03/2012</td>\n",
              "      <td>49</td>\n",
              "      <td>1.0</td>\n",
              "      <td>...</td>\n",
              "      <td>0</td>\n",
              "      <td>0</td>\n",
              "      <td>0</td>\n",
              "      <td>0</td>\n",
              "      <td>0</td>\n",
              "      <td>0</td>\n",
              "      <td>0</td>\n",
              "      <td>0</td>\n",
              "      <td>0</td>\n",
              "      <td>1</td>\n",
              "    </tr>\n",
              "    <tr>\n",
              "      <th>3</th>\n",
              "      <td>601385667462</td>\n",
              "      <td>X</td>\n",
              "      <td>OTHER</td>\n",
              "      <td>4.750</td>\n",
              "      <td>135000</td>\n",
              "      <td>360</td>\n",
              "      <td>2012-02-01</td>\n",
              "      <td>04/2012</td>\n",
              "      <td>46</td>\n",
              "      <td>2.0</td>\n",
              "      <td>...</td>\n",
              "      <td>0</td>\n",
              "      <td>0</td>\n",
              "      <td>0</td>\n",
              "      <td>0</td>\n",
              "      <td>0</td>\n",
              "      <td>1</td>\n",
              "      <td>1</td>\n",
              "      <td>1</td>\n",
              "      <td>1</td>\n",
              "      <td>1</td>\n",
              "    </tr>\n",
              "    <tr>\n",
              "      <th>4</th>\n",
              "      <td>273870029961</td>\n",
              "      <td>X</td>\n",
              "      <td>OTHER</td>\n",
              "      <td>4.750</td>\n",
              "      <td>124000</td>\n",
              "      <td>360</td>\n",
              "      <td>2012-02-01</td>\n",
              "      <td>04/2012</td>\n",
              "      <td>80</td>\n",
              "      <td>1.0</td>\n",
              "      <td>...</td>\n",
              "      <td>3</td>\n",
              "      <td>4</td>\n",
              "      <td>5</td>\n",
              "      <td>6</td>\n",
              "      <td>7</td>\n",
              "      <td>8</td>\n",
              "      <td>9</td>\n",
              "      <td>10</td>\n",
              "      <td>11</td>\n",
              "      <td>1</td>\n",
              "    </tr>\n",
              "  </tbody>\n",
              "</table>\n",
              "<p>5 rows × 29 columns</p>\n",
              "</div>\n",
              "      <button class=\"colab-df-convert\" onclick=\"convertToInteractive('df-25b436c8-cc34-4afa-b2c8-ab137e0c8432')\"\n",
              "              title=\"Convert this dataframe to an interactive table.\"\n",
              "              style=\"display:none;\">\n",
              "        \n",
              "  <svg xmlns=\"http://www.w3.org/2000/svg\" height=\"24px\"viewBox=\"0 0 24 24\"\n",
              "       width=\"24px\">\n",
              "    <path d=\"M0 0h24v24H0V0z\" fill=\"none\"/>\n",
              "    <path d=\"M18.56 5.44l.94 2.06.94-2.06 2.06-.94-2.06-.94-.94-2.06-.94 2.06-2.06.94zm-11 1L8.5 8.5l.94-2.06 2.06-.94-2.06-.94L8.5 2.5l-.94 2.06-2.06.94zm10 10l.94 2.06.94-2.06 2.06-.94-2.06-.94-.94-2.06-.94 2.06-2.06.94z\"/><path d=\"M17.41 7.96l-1.37-1.37c-.4-.4-.92-.59-1.43-.59-.52 0-1.04.2-1.43.59L10.3 9.45l-7.72 7.72c-.78.78-.78 2.05 0 2.83L4 21.41c.39.39.9.59 1.41.59.51 0 1.02-.2 1.41-.59l7.78-7.78 2.81-2.81c.8-.78.8-2.07 0-2.86zM5.41 20L4 18.59l7.72-7.72 1.47 1.35L5.41 20z\"/>\n",
              "  </svg>\n",
              "      </button>\n",
              "      \n",
              "  <style>\n",
              "    .colab-df-container {\n",
              "      display:flex;\n",
              "      flex-wrap:wrap;\n",
              "      gap: 12px;\n",
              "    }\n",
              "\n",
              "    .colab-df-convert {\n",
              "      background-color: #E8F0FE;\n",
              "      border: none;\n",
              "      border-radius: 50%;\n",
              "      cursor: pointer;\n",
              "      display: none;\n",
              "      fill: #1967D2;\n",
              "      height: 32px;\n",
              "      padding: 0 0 0 0;\n",
              "      width: 32px;\n",
              "    }\n",
              "\n",
              "    .colab-df-convert:hover {\n",
              "      background-color: #E2EBFA;\n",
              "      box-shadow: 0px 1px 2px rgba(60, 64, 67, 0.3), 0px 1px 3px 1px rgba(60, 64, 67, 0.15);\n",
              "      fill: #174EA6;\n",
              "    }\n",
              "\n",
              "    [theme=dark] .colab-df-convert {\n",
              "      background-color: #3B4455;\n",
              "      fill: #D2E3FC;\n",
              "    }\n",
              "\n",
              "    [theme=dark] .colab-df-convert:hover {\n",
              "      background-color: #434B5C;\n",
              "      box-shadow: 0px 1px 3px 1px rgba(0, 0, 0, 0.15);\n",
              "      filter: drop-shadow(0px 1px 2px rgba(0, 0, 0, 0.3));\n",
              "      fill: #FFFFFF;\n",
              "    }\n",
              "  </style>\n",
              "\n",
              "      <script>\n",
              "        const buttonEl =\n",
              "          document.querySelector('#df-25b436c8-cc34-4afa-b2c8-ab137e0c8432 button.colab-df-convert');\n",
              "        buttonEl.style.display =\n",
              "          google.colab.kernel.accessAllowed ? 'block' : 'none';\n",
              "\n",
              "        async function convertToInteractive(key) {\n",
              "          const element = document.querySelector('#df-25b436c8-cc34-4afa-b2c8-ab137e0c8432');\n",
              "          const dataTable =\n",
              "            await google.colab.kernel.invokeFunction('convertToInteractive',\n",
              "                                                     [key], {});\n",
              "          if (!dataTable) return;\n",
              "\n",
              "          const docLinkHtml = 'Like what you see? Visit the ' +\n",
              "            '<a target=\"_blank\" href=https://colab.research.google.com/notebooks/data_table.ipynb>data table notebook</a>'\n",
              "            + ' to learn more about interactive tables.';\n",
              "          element.innerHTML = '';\n",
              "          dataTable['output_type'] = 'display_data';\n",
              "          await google.colab.output.renderOutput(dataTable, element);\n",
              "          const docLink = document.createElement('div');\n",
              "          docLink.innerHTML = docLinkHtml;\n",
              "          element.appendChild(docLink);\n",
              "        }\n",
              "      </script>\n",
              "    </div>\n",
              "  </div>\n",
              "  "
            ]
          },
          "metadata": {},
          "execution_count": 161
        }
      ]
    },
    {
      "cell_type": "code",
      "source": [
        "df.shape"
      ],
      "metadata": {
        "colab": {
          "base_uri": "https://localhost:8080/"
        },
        "id": "dgg9wXTr43Vk",
        "outputId": "32af01bd-f764-4ea6-9c18-467e9d99f62f"
      },
      "execution_count": 162,
      "outputs": [
        {
          "output_type": "execute_result",
          "data": {
            "text/plain": [
              "(116058, 29)"
            ]
          },
          "metadata": {},
          "execution_count": 162
        }
      ]
    },
    {
      "cell_type": "code",
      "source": [
        "df.isnull().sum()"
      ],
      "metadata": {
        "colab": {
          "base_uri": "https://localhost:8080/"
        },
        "id": "tVFqAFMm5n0r",
        "outputId": "41117b33-b0db-4cb7-af37-1148bab238b4"
      },
      "execution_count": 163,
      "outputs": [
        {
          "output_type": "execute_result",
          "data": {
            "text/plain": [
              "loan_id                     0\n",
              "source                      0\n",
              "financial_institution       0\n",
              "interest_rate               0\n",
              "unpaid_principal_bal        0\n",
              "loan_term                   0\n",
              "origination_date            0\n",
              "first_payment_date          0\n",
              "loan_to_value               0\n",
              "number_of_borrowers         0\n",
              "debt_to_income_ratio        0\n",
              "borrower_credit_score       0\n",
              "loan_purpose                0\n",
              "insurance_percent           0\n",
              "co-borrower_credit_score    0\n",
              "insurance_type              0\n",
              "m1                          0\n",
              "m2                          0\n",
              "m3                          0\n",
              "m4                          0\n",
              "m5                          0\n",
              "m6                          0\n",
              "m7                          0\n",
              "m8                          0\n",
              "m9                          0\n",
              "m10                         0\n",
              "m11                         0\n",
              "m12                         0\n",
              "m13                         0\n",
              "dtype: int64"
            ]
          },
          "metadata": {},
          "execution_count": 163
        }
      ]
    },
    {
      "cell_type": "code",
      "source": [
        "df.info()"
      ],
      "metadata": {
        "colab": {
          "base_uri": "https://localhost:8080/"
        },
        "id": "kal6wvXX53df",
        "outputId": "4efa1670-884f-407b-cc1b-9d39ad3cd434"
      },
      "execution_count": 164,
      "outputs": [
        {
          "output_type": "stream",
          "name": "stdout",
          "text": [
            "<class 'pandas.core.frame.DataFrame'>\n",
            "RangeIndex: 116058 entries, 0 to 116057\n",
            "Data columns (total 29 columns):\n",
            " #   Column                    Non-Null Count   Dtype  \n",
            "---  ------                    --------------   -----  \n",
            " 0   loan_id                   116058 non-null  int64  \n",
            " 1   source                    116058 non-null  object \n",
            " 2   financial_institution     116058 non-null  object \n",
            " 3   interest_rate             116058 non-null  float64\n",
            " 4   unpaid_principal_bal      116058 non-null  int64  \n",
            " 5   loan_term                 116058 non-null  int64  \n",
            " 6   origination_date          116058 non-null  object \n",
            " 7   first_payment_date        116058 non-null  object \n",
            " 8   loan_to_value             116058 non-null  int64  \n",
            " 9   number_of_borrowers       116058 non-null  float64\n",
            " 10  debt_to_income_ratio      116058 non-null  float64\n",
            " 11  borrower_credit_score     116058 non-null  float64\n",
            " 12  loan_purpose              116058 non-null  object \n",
            " 13  insurance_percent         116058 non-null  float64\n",
            " 14  co-borrower_credit_score  116058 non-null  float64\n",
            " 15  insurance_type            116058 non-null  float64\n",
            " 16  m1                        116058 non-null  int64  \n",
            " 17  m2                        116058 non-null  int64  \n",
            " 18  m3                        116058 non-null  int64  \n",
            " 19  m4                        116058 non-null  int64  \n",
            " 20  m5                        116058 non-null  int64  \n",
            " 21  m6                        116058 non-null  int64  \n",
            " 22  m7                        116058 non-null  int64  \n",
            " 23  m8                        116058 non-null  int64  \n",
            " 24  m9                        116058 non-null  int64  \n",
            " 25  m10                       116058 non-null  int64  \n",
            " 26  m11                       116058 non-null  int64  \n",
            " 27  m12                       116058 non-null  int64  \n",
            " 28  m13                       116058 non-null  int64  \n",
            "dtypes: float64(7), int64(17), object(5)\n",
            "memory usage: 25.7+ MB\n"
          ]
        }
      ]
    },
    {
      "cell_type": "code",
      "source": [
        "df.columns"
      ],
      "metadata": {
        "colab": {
          "base_uri": "https://localhost:8080/"
        },
        "id": "-cHO-eW-79VB",
        "outputId": "fd00123a-69c8-4efc-ce9c-ca73bc8bdba1"
      },
      "execution_count": 165,
      "outputs": [
        {
          "output_type": "execute_result",
          "data": {
            "text/plain": [
              "Index(['loan_id', 'source', 'financial_institution', 'interest_rate',\n",
              "       'unpaid_principal_bal', 'loan_term', 'origination_date',\n",
              "       'first_payment_date', 'loan_to_value', 'number_of_borrowers',\n",
              "       'debt_to_income_ratio', 'borrower_credit_score', 'loan_purpose',\n",
              "       'insurance_percent', 'co-borrower_credit_score', 'insurance_type', 'm1',\n",
              "       'm2', 'm3', 'm4', 'm5', 'm6', 'm7', 'm8', 'm9', 'm10', 'm11', 'm12',\n",
              "       'm13'],\n",
              "      dtype='object')"
            ]
          },
          "metadata": {},
          "execution_count": 165
        }
      ]
    },
    {
      "cell_type": "code",
      "source": [
        "df1=df.drop('loan_id',axis=1)"
      ],
      "metadata": {
        "id": "09OtWTJ46IQY"
      },
      "execution_count": 166,
      "outputs": []
    },
    {
      "cell_type": "code",
      "source": [
        "cat_columns=df1[['source', 'financial_institution','origination_date','first_payment_date','loan_purpose']]"
      ],
      "metadata": {
        "id": "V19sfqFUIwvn"
      },
      "execution_count": 167,
      "outputs": []
    },
    {
      "cell_type": "code",
      "source": [
        "df1_enc=pd.get_dummies(cat_columns)"
      ],
      "metadata": {
        "id": "C_JR_QJX8C5K"
      },
      "execution_count": 168,
      "outputs": []
    },
    {
      "cell_type": "code",
      "source": [
        "df1_enc"
      ],
      "metadata": {
        "colab": {
          "base_uri": "https://localhost:8080/",
          "height": 505
        },
        "id": "nSPSVXfU8ZbG",
        "outputId": "729072bd-c495-4b11-d17e-cb9f86e3472c"
      },
      "execution_count": 169,
      "outputs": [
        {
          "output_type": "execute_result",
          "data": {
            "text/plain": [
              "        source_X  source_Y  source_Z  financial_institution_Anderson-Taylor  \\\n",
              "0              0         0         1                                      0   \n",
              "1              0         1         0                                      0   \n",
              "2              0         0         1                                      0   \n",
              "3              1         0         0                                      0   \n",
              "4              1         0         0                                      0   \n",
              "...          ...       ...       ...                                    ...   \n",
              "116053         0         1         0                                      0   \n",
              "116054         0         0         1                                      0   \n",
              "116055         1         0         0                                      0   \n",
              "116056         1         0         0                                      0   \n",
              "116057         0         0         1                                      0   \n",
              "\n",
              "        financial_institution_Browning-Hart  \\\n",
              "0                                         0   \n",
              "1                                         0   \n",
              "2                                         0   \n",
              "3                                         0   \n",
              "4                                         0   \n",
              "...                                     ...   \n",
              "116053                                    1   \n",
              "116054                                    0   \n",
              "116055                                    0   \n",
              "116056                                    0   \n",
              "116057                                    0   \n",
              "\n",
              "        financial_institution_Chapman-Mcmahon  \\\n",
              "0                                           0   \n",
              "1                                           0   \n",
              "2                                           0   \n",
              "3                                           0   \n",
              "4                                           0   \n",
              "...                                       ...   \n",
              "116053                                      0   \n",
              "116054                                      0   \n",
              "116055                                      0   \n",
              "116056                                      0   \n",
              "116057                                      0   \n",
              "\n",
              "        financial_institution_Cole, Brooks and Vincent  \\\n",
              "0                                                    0   \n",
              "1                                                    0   \n",
              "2                                                    0   \n",
              "3                                                    0   \n",
              "4                                                    0   \n",
              "...                                                ...   \n",
              "116053                                               0   \n",
              "116054                                               0   \n",
              "116055                                               0   \n",
              "116056                                               0   \n",
              "116057                                               0   \n",
              "\n",
              "        financial_institution_Edwards-Hoffman  \\\n",
              "0                                           0   \n",
              "1                                           0   \n",
              "2                                           0   \n",
              "3                                           0   \n",
              "4                                           0   \n",
              "...                                       ...   \n",
              "116053                                      0   \n",
              "116054                                      0   \n",
              "116055                                      0   \n",
              "116056                                      0   \n",
              "116057                                      0   \n",
              "\n",
              "        financial_institution_Martinez, Duffy and Bird  \\\n",
              "0                                                    0   \n",
              "1                                                    0   \n",
              "2                                                    0   \n",
              "3                                                    0   \n",
              "4                                                    0   \n",
              "...                                                ...   \n",
              "116053                                               0   \n",
              "116054                                               0   \n",
              "116055                                               0   \n",
              "116056                                               0   \n",
              "116057                                               0   \n",
              "\n",
              "        financial_institution_Miller, Mcclure and Allen  ...  \\\n",
              "0                                                     0  ...   \n",
              "1                                                     0  ...   \n",
              "2                                                     0  ...   \n",
              "3                                                     0  ...   \n",
              "4                                                     0  ...   \n",
              "...                                                 ...  ...   \n",
              "116053                                                0  ...   \n",
              "116054                                                0  ...   \n",
              "116055                                                0  ...   \n",
              "116056                                                0  ...   \n",
              "116057                                                0  ...   \n",
              "\n",
              "        origination_date_2012-01-01  origination_date_2012-02-01  \\\n",
              "0                                 0                            0   \n",
              "1                                 1                            0   \n",
              "2                                 1                            0   \n",
              "3                                 0                            1   \n",
              "4                                 0                            1   \n",
              "...                             ...                          ...   \n",
              "116053                            0                            1   \n",
              "116054                            1                            0   \n",
              "116055                            0                            1   \n",
              "116056                            0                            1   \n",
              "116057                            1                            0   \n",
              "\n",
              "        origination_date_2012-03-01  first_payment_date_02/2012  \\\n",
              "0                                 1                           0   \n",
              "1                                 0                           0   \n",
              "2                                 0                           0   \n",
              "3                                 0                           0   \n",
              "4                                 0                           0   \n",
              "...                             ...                         ...   \n",
              "116053                            0                           0   \n",
              "116054                            0                           0   \n",
              "116055                            0                           0   \n",
              "116056                            0                           0   \n",
              "116057                            0                           0   \n",
              "\n",
              "        first_payment_date_03/2012  first_payment_date_04/2012  \\\n",
              "0                                0                           0   \n",
              "1                                1                           0   \n",
              "2                                1                           0   \n",
              "3                                0                           1   \n",
              "4                                0                           1   \n",
              "...                            ...                         ...   \n",
              "116053                           0                           1   \n",
              "116054                           1                           0   \n",
              "116055                           0                           1   \n",
              "116056                           0                           1   \n",
              "116057                           1                           0   \n",
              "\n",
              "        first_payment_date_05/2012  loan_purpose_A23  loan_purpose_B12  \\\n",
              "0                                1                 0                 0   \n",
              "1                                0                 0                 1   \n",
              "2                                0                 0                 1   \n",
              "3                                0                 0                 1   \n",
              "4                                0                 0                 0   \n",
              "...                            ...               ...               ...   \n",
              "116053                           0                 1                 0   \n",
              "116054                           0                 0                 1   \n",
              "116055                           0                 0                 1   \n",
              "116056                           0                 1                 0   \n",
              "116057                           0                 1                 0   \n",
              "\n",
              "        loan_purpose_C86  \n",
              "0                      1  \n",
              "1                      0  \n",
              "2                      0  \n",
              "3                      0  \n",
              "4                      1  \n",
              "...                  ...  \n",
              "116053                 0  \n",
              "116054                 0  \n",
              "116055                 0  \n",
              "116056                 0  \n",
              "116057                 0  \n",
              "\n",
              "[116058 rows x 32 columns]"
            ],
            "text/html": [
              "\n",
              "  <div id=\"df-f302e6e2-9dd9-480e-8ee0-e05c016363ae\">\n",
              "    <div class=\"colab-df-container\">\n",
              "      <div>\n",
              "<style scoped>\n",
              "    .dataframe tbody tr th:only-of-type {\n",
              "        vertical-align: middle;\n",
              "    }\n",
              "\n",
              "    .dataframe tbody tr th {\n",
              "        vertical-align: top;\n",
              "    }\n",
              "\n",
              "    .dataframe thead th {\n",
              "        text-align: right;\n",
              "    }\n",
              "</style>\n",
              "<table border=\"1\" class=\"dataframe\">\n",
              "  <thead>\n",
              "    <tr style=\"text-align: right;\">\n",
              "      <th></th>\n",
              "      <th>source_X</th>\n",
              "      <th>source_Y</th>\n",
              "      <th>source_Z</th>\n",
              "      <th>financial_institution_Anderson-Taylor</th>\n",
              "      <th>financial_institution_Browning-Hart</th>\n",
              "      <th>financial_institution_Chapman-Mcmahon</th>\n",
              "      <th>financial_institution_Cole, Brooks and Vincent</th>\n",
              "      <th>financial_institution_Edwards-Hoffman</th>\n",
              "      <th>financial_institution_Martinez, Duffy and Bird</th>\n",
              "      <th>financial_institution_Miller, Mcclure and Allen</th>\n",
              "      <th>...</th>\n",
              "      <th>origination_date_2012-01-01</th>\n",
              "      <th>origination_date_2012-02-01</th>\n",
              "      <th>origination_date_2012-03-01</th>\n",
              "      <th>first_payment_date_02/2012</th>\n",
              "      <th>first_payment_date_03/2012</th>\n",
              "      <th>first_payment_date_04/2012</th>\n",
              "      <th>first_payment_date_05/2012</th>\n",
              "      <th>loan_purpose_A23</th>\n",
              "      <th>loan_purpose_B12</th>\n",
              "      <th>loan_purpose_C86</th>\n",
              "    </tr>\n",
              "  </thead>\n",
              "  <tbody>\n",
              "    <tr>\n",
              "      <th>0</th>\n",
              "      <td>0</td>\n",
              "      <td>0</td>\n",
              "      <td>1</td>\n",
              "      <td>0</td>\n",
              "      <td>0</td>\n",
              "      <td>0</td>\n",
              "      <td>0</td>\n",
              "      <td>0</td>\n",
              "      <td>0</td>\n",
              "      <td>0</td>\n",
              "      <td>...</td>\n",
              "      <td>0</td>\n",
              "      <td>0</td>\n",
              "      <td>1</td>\n",
              "      <td>0</td>\n",
              "      <td>0</td>\n",
              "      <td>0</td>\n",
              "      <td>1</td>\n",
              "      <td>0</td>\n",
              "      <td>0</td>\n",
              "      <td>1</td>\n",
              "    </tr>\n",
              "    <tr>\n",
              "      <th>1</th>\n",
              "      <td>0</td>\n",
              "      <td>1</td>\n",
              "      <td>0</td>\n",
              "      <td>0</td>\n",
              "      <td>0</td>\n",
              "      <td>0</td>\n",
              "      <td>0</td>\n",
              "      <td>0</td>\n",
              "      <td>0</td>\n",
              "      <td>0</td>\n",
              "      <td>...</td>\n",
              "      <td>1</td>\n",
              "      <td>0</td>\n",
              "      <td>0</td>\n",
              "      <td>0</td>\n",
              "      <td>1</td>\n",
              "      <td>0</td>\n",
              "      <td>0</td>\n",
              "      <td>0</td>\n",
              "      <td>1</td>\n",
              "      <td>0</td>\n",
              "    </tr>\n",
              "    <tr>\n",
              "      <th>2</th>\n",
              "      <td>0</td>\n",
              "      <td>0</td>\n",
              "      <td>1</td>\n",
              "      <td>0</td>\n",
              "      <td>0</td>\n",
              "      <td>0</td>\n",
              "      <td>0</td>\n",
              "      <td>0</td>\n",
              "      <td>0</td>\n",
              "      <td>0</td>\n",
              "      <td>...</td>\n",
              "      <td>1</td>\n",
              "      <td>0</td>\n",
              "      <td>0</td>\n",
              "      <td>0</td>\n",
              "      <td>1</td>\n",
              "      <td>0</td>\n",
              "      <td>0</td>\n",
              "      <td>0</td>\n",
              "      <td>1</td>\n",
              "      <td>0</td>\n",
              "    </tr>\n",
              "    <tr>\n",
              "      <th>3</th>\n",
              "      <td>1</td>\n",
              "      <td>0</td>\n",
              "      <td>0</td>\n",
              "      <td>0</td>\n",
              "      <td>0</td>\n",
              "      <td>0</td>\n",
              "      <td>0</td>\n",
              "      <td>0</td>\n",
              "      <td>0</td>\n",
              "      <td>0</td>\n",
              "      <td>...</td>\n",
              "      <td>0</td>\n",
              "      <td>1</td>\n",
              "      <td>0</td>\n",
              "      <td>0</td>\n",
              "      <td>0</td>\n",
              "      <td>1</td>\n",
              "      <td>0</td>\n",
              "      <td>0</td>\n",
              "      <td>1</td>\n",
              "      <td>0</td>\n",
              "    </tr>\n",
              "    <tr>\n",
              "      <th>4</th>\n",
              "      <td>1</td>\n",
              "      <td>0</td>\n",
              "      <td>0</td>\n",
              "      <td>0</td>\n",
              "      <td>0</td>\n",
              "      <td>0</td>\n",
              "      <td>0</td>\n",
              "      <td>0</td>\n",
              "      <td>0</td>\n",
              "      <td>0</td>\n",
              "      <td>...</td>\n",
              "      <td>0</td>\n",
              "      <td>1</td>\n",
              "      <td>0</td>\n",
              "      <td>0</td>\n",
              "      <td>0</td>\n",
              "      <td>1</td>\n",
              "      <td>0</td>\n",
              "      <td>0</td>\n",
              "      <td>0</td>\n",
              "      <td>1</td>\n",
              "    </tr>\n",
              "    <tr>\n",
              "      <th>...</th>\n",
              "      <td>...</td>\n",
              "      <td>...</td>\n",
              "      <td>...</td>\n",
              "      <td>...</td>\n",
              "      <td>...</td>\n",
              "      <td>...</td>\n",
              "      <td>...</td>\n",
              "      <td>...</td>\n",
              "      <td>...</td>\n",
              "      <td>...</td>\n",
              "      <td>...</td>\n",
              "      <td>...</td>\n",
              "      <td>...</td>\n",
              "      <td>...</td>\n",
              "      <td>...</td>\n",
              "      <td>...</td>\n",
              "      <td>...</td>\n",
              "      <td>...</td>\n",
              "      <td>...</td>\n",
              "      <td>...</td>\n",
              "      <td>...</td>\n",
              "    </tr>\n",
              "    <tr>\n",
              "      <th>116053</th>\n",
              "      <td>0</td>\n",
              "      <td>1</td>\n",
              "      <td>0</td>\n",
              "      <td>0</td>\n",
              "      <td>1</td>\n",
              "      <td>0</td>\n",
              "      <td>0</td>\n",
              "      <td>0</td>\n",
              "      <td>0</td>\n",
              "      <td>0</td>\n",
              "      <td>...</td>\n",
              "      <td>0</td>\n",
              "      <td>1</td>\n",
              "      <td>0</td>\n",
              "      <td>0</td>\n",
              "      <td>0</td>\n",
              "      <td>1</td>\n",
              "      <td>0</td>\n",
              "      <td>1</td>\n",
              "      <td>0</td>\n",
              "      <td>0</td>\n",
              "    </tr>\n",
              "    <tr>\n",
              "      <th>116054</th>\n",
              "      <td>0</td>\n",
              "      <td>0</td>\n",
              "      <td>1</td>\n",
              "      <td>0</td>\n",
              "      <td>0</td>\n",
              "      <td>0</td>\n",
              "      <td>0</td>\n",
              "      <td>0</td>\n",
              "      <td>0</td>\n",
              "      <td>0</td>\n",
              "      <td>...</td>\n",
              "      <td>1</td>\n",
              "      <td>0</td>\n",
              "      <td>0</td>\n",
              "      <td>0</td>\n",
              "      <td>1</td>\n",
              "      <td>0</td>\n",
              "      <td>0</td>\n",
              "      <td>0</td>\n",
              "      <td>1</td>\n",
              "      <td>0</td>\n",
              "    </tr>\n",
              "    <tr>\n",
              "      <th>116055</th>\n",
              "      <td>1</td>\n",
              "      <td>0</td>\n",
              "      <td>0</td>\n",
              "      <td>0</td>\n",
              "      <td>0</td>\n",
              "      <td>0</td>\n",
              "      <td>0</td>\n",
              "      <td>0</td>\n",
              "      <td>0</td>\n",
              "      <td>0</td>\n",
              "      <td>...</td>\n",
              "      <td>0</td>\n",
              "      <td>1</td>\n",
              "      <td>0</td>\n",
              "      <td>0</td>\n",
              "      <td>0</td>\n",
              "      <td>1</td>\n",
              "      <td>0</td>\n",
              "      <td>0</td>\n",
              "      <td>1</td>\n",
              "      <td>0</td>\n",
              "    </tr>\n",
              "    <tr>\n",
              "      <th>116056</th>\n",
              "      <td>1</td>\n",
              "      <td>0</td>\n",
              "      <td>0</td>\n",
              "      <td>0</td>\n",
              "      <td>0</td>\n",
              "      <td>0</td>\n",
              "      <td>0</td>\n",
              "      <td>0</td>\n",
              "      <td>0</td>\n",
              "      <td>0</td>\n",
              "      <td>...</td>\n",
              "      <td>0</td>\n",
              "      <td>1</td>\n",
              "      <td>0</td>\n",
              "      <td>0</td>\n",
              "      <td>0</td>\n",
              "      <td>1</td>\n",
              "      <td>0</td>\n",
              "      <td>1</td>\n",
              "      <td>0</td>\n",
              "      <td>0</td>\n",
              "    </tr>\n",
              "    <tr>\n",
              "      <th>116057</th>\n",
              "      <td>0</td>\n",
              "      <td>0</td>\n",
              "      <td>1</td>\n",
              "      <td>0</td>\n",
              "      <td>0</td>\n",
              "      <td>0</td>\n",
              "      <td>0</td>\n",
              "      <td>0</td>\n",
              "      <td>0</td>\n",
              "      <td>0</td>\n",
              "      <td>...</td>\n",
              "      <td>1</td>\n",
              "      <td>0</td>\n",
              "      <td>0</td>\n",
              "      <td>0</td>\n",
              "      <td>1</td>\n",
              "      <td>0</td>\n",
              "      <td>0</td>\n",
              "      <td>1</td>\n",
              "      <td>0</td>\n",
              "      <td>0</td>\n",
              "    </tr>\n",
              "  </tbody>\n",
              "</table>\n",
              "<p>116058 rows × 32 columns</p>\n",
              "</div>\n",
              "      <button class=\"colab-df-convert\" onclick=\"convertToInteractive('df-f302e6e2-9dd9-480e-8ee0-e05c016363ae')\"\n",
              "              title=\"Convert this dataframe to an interactive table.\"\n",
              "              style=\"display:none;\">\n",
              "        \n",
              "  <svg xmlns=\"http://www.w3.org/2000/svg\" height=\"24px\"viewBox=\"0 0 24 24\"\n",
              "       width=\"24px\">\n",
              "    <path d=\"M0 0h24v24H0V0z\" fill=\"none\"/>\n",
              "    <path d=\"M18.56 5.44l.94 2.06.94-2.06 2.06-.94-2.06-.94-.94-2.06-.94 2.06-2.06.94zm-11 1L8.5 8.5l.94-2.06 2.06-.94-2.06-.94L8.5 2.5l-.94 2.06-2.06.94zm10 10l.94 2.06.94-2.06 2.06-.94-2.06-.94-.94-2.06-.94 2.06-2.06.94z\"/><path d=\"M17.41 7.96l-1.37-1.37c-.4-.4-.92-.59-1.43-.59-.52 0-1.04.2-1.43.59L10.3 9.45l-7.72 7.72c-.78.78-.78 2.05 0 2.83L4 21.41c.39.39.9.59 1.41.59.51 0 1.02-.2 1.41-.59l7.78-7.78 2.81-2.81c.8-.78.8-2.07 0-2.86zM5.41 20L4 18.59l7.72-7.72 1.47 1.35L5.41 20z\"/>\n",
              "  </svg>\n",
              "      </button>\n",
              "      \n",
              "  <style>\n",
              "    .colab-df-container {\n",
              "      display:flex;\n",
              "      flex-wrap:wrap;\n",
              "      gap: 12px;\n",
              "    }\n",
              "\n",
              "    .colab-df-convert {\n",
              "      background-color: #E8F0FE;\n",
              "      border: none;\n",
              "      border-radius: 50%;\n",
              "      cursor: pointer;\n",
              "      display: none;\n",
              "      fill: #1967D2;\n",
              "      height: 32px;\n",
              "      padding: 0 0 0 0;\n",
              "      width: 32px;\n",
              "    }\n",
              "\n",
              "    .colab-df-convert:hover {\n",
              "      background-color: #E2EBFA;\n",
              "      box-shadow: 0px 1px 2px rgba(60, 64, 67, 0.3), 0px 1px 3px 1px rgba(60, 64, 67, 0.15);\n",
              "      fill: #174EA6;\n",
              "    }\n",
              "\n",
              "    [theme=dark] .colab-df-convert {\n",
              "      background-color: #3B4455;\n",
              "      fill: #D2E3FC;\n",
              "    }\n",
              "\n",
              "    [theme=dark] .colab-df-convert:hover {\n",
              "      background-color: #434B5C;\n",
              "      box-shadow: 0px 1px 3px 1px rgba(0, 0, 0, 0.15);\n",
              "      filter: drop-shadow(0px 1px 2px rgba(0, 0, 0, 0.3));\n",
              "      fill: #FFFFFF;\n",
              "    }\n",
              "  </style>\n",
              "\n",
              "      <script>\n",
              "        const buttonEl =\n",
              "          document.querySelector('#df-f302e6e2-9dd9-480e-8ee0-e05c016363ae button.colab-df-convert');\n",
              "        buttonEl.style.display =\n",
              "          google.colab.kernel.accessAllowed ? 'block' : 'none';\n",
              "\n",
              "        async function convertToInteractive(key) {\n",
              "          const element = document.querySelector('#df-f302e6e2-9dd9-480e-8ee0-e05c016363ae');\n",
              "          const dataTable =\n",
              "            await google.colab.kernel.invokeFunction('convertToInteractive',\n",
              "                                                     [key], {});\n",
              "          if (!dataTable) return;\n",
              "\n",
              "          const docLinkHtml = 'Like what you see? Visit the ' +\n",
              "            '<a target=\"_blank\" href=https://colab.research.google.com/notebooks/data_table.ipynb>data table notebook</a>'\n",
              "            + ' to learn more about interactive tables.';\n",
              "          element.innerHTML = '';\n",
              "          dataTable['output_type'] = 'display_data';\n",
              "          await google.colab.output.renderOutput(dataTable, element);\n",
              "          const docLink = document.createElement('div');\n",
              "          docLink.innerHTML = docLinkHtml;\n",
              "          element.appendChild(docLink);\n",
              "        }\n",
              "      </script>\n",
              "    </div>\n",
              "  </div>\n",
              "  "
            ]
          },
          "metadata": {},
          "execution_count": 169
        }
      ]
    },
    {
      "cell_type": "code",
      "source": [
        "df1_enc.dtypes"
      ],
      "metadata": {
        "colab": {
          "base_uri": "https://localhost:8080/"
        },
        "id": "aMOnFtvq8dJk",
        "outputId": "ffcb872c-e2de-479b-8ca8-36430a26c0ce"
      },
      "execution_count": 170,
      "outputs": [
        {
          "output_type": "execute_result",
          "data": {
            "text/plain": [
              "source_X                                             uint8\n",
              "source_Y                                             uint8\n",
              "source_Z                                             uint8\n",
              "financial_institution_Anderson-Taylor                uint8\n",
              "financial_institution_Browning-Hart                  uint8\n",
              "financial_institution_Chapman-Mcmahon                uint8\n",
              "financial_institution_Cole, Brooks and Vincent       uint8\n",
              "financial_institution_Edwards-Hoffman                uint8\n",
              "financial_institution_Martinez, Duffy and Bird       uint8\n",
              "financial_institution_Miller, Mcclure and Allen      uint8\n",
              "financial_institution_Nicholson Group                uint8\n",
              "financial_institution_OTHER                          uint8\n",
              "financial_institution_Richards-Walters               uint8\n",
              "financial_institution_Richardson Ltd                 uint8\n",
              "financial_institution_Romero, Woods and Johnson      uint8\n",
              "financial_institution_Sanchez, Hays and Wilkerson    uint8\n",
              "financial_institution_Sanchez-Robinson               uint8\n",
              "financial_institution_Suarez Inc                     uint8\n",
              "financial_institution_Swanson, Newton and Miller     uint8\n",
              "financial_institution_Taylor, Hunt and Rodriguez     uint8\n",
              "financial_institution_Thornton-Davis                 uint8\n",
              "financial_institution_Turner, Baldwin and Rhodes     uint8\n",
              "origination_date_2012-01-01                          uint8\n",
              "origination_date_2012-02-01                          uint8\n",
              "origination_date_2012-03-01                          uint8\n",
              "first_payment_date_02/2012                           uint8\n",
              "first_payment_date_03/2012                           uint8\n",
              "first_payment_date_04/2012                           uint8\n",
              "first_payment_date_05/2012                           uint8\n",
              "loan_purpose_A23                                     uint8\n",
              "loan_purpose_B12                                     uint8\n",
              "loan_purpose_C86                                     uint8\n",
              "dtype: object"
            ]
          },
          "metadata": {},
          "execution_count": 170
        }
      ]
    },
    {
      "cell_type": "code",
      "source": [
        "from sklearn.preprocessing import MinMaxScaler"
      ],
      "metadata": {
        "id": "X2wElbyP8wd5"
      },
      "execution_count": 171,
      "outputs": []
    },
    {
      "cell_type": "code",
      "source": [
        "minmax= MinMaxScaler()"
      ],
      "metadata": {
        "id": "0NdinvF79Evg"
      },
      "execution_count": 172,
      "outputs": []
    },
    {
      "cell_type": "code",
      "source": [
        "x=df1.drop(['source', 'financial_institution','origination_date','first_payment_date','loan_purpose','m13'],axis=1)"
      ],
      "metadata": {
        "id": "Kml8rYKkJXjl"
      },
      "execution_count": 173,
      "outputs": []
    },
    {
      "cell_type": "code",
      "source": [
        "z=df1['m13']"
      ],
      "metadata": {
        "id": "mFPHlZasOyjs"
      },
      "execution_count": 174,
      "outputs": []
    },
    {
      "cell_type": "code",
      "source": [
        "x1=minmax.fit_transform(x)"
      ],
      "metadata": {
        "id": "hMwytJC39Hp2"
      },
      "execution_count": 175,
      "outputs": []
    },
    {
      "cell_type": "code",
      "source": [
        "#converting back to dataframe\n",
        "x1=pd.DataFrame(x1,columns=x.columns)"
      ],
      "metadata": {
        "id": "6skYSqj79NBV"
      },
      "execution_count": 176,
      "outputs": []
    },
    {
      "cell_type": "code",
      "source": [
        "x1.describe()"
      ],
      "metadata": {
        "colab": {
          "base_uri": "https://localhost:8080/",
          "height": 411
        },
        "id": "_8N1deRA9hAa",
        "outputId": "c629cbdf-559b-4082-f0ab-41c1bd7b2f01"
      },
      "execution_count": 177,
      "outputs": [
        {
          "output_type": "execute_result",
          "data": {
            "text/plain": [
              "       interest_rate  unpaid_principal_bal      loan_term  loan_to_value  \\\n",
              "count  116058.000000         116058.000000  116058.000000  116058.000000   \n",
              "mean        0.359769              0.165876       0.774270       0.675076   \n",
              "std         0.102449              0.096455       0.299208       0.190019   \n",
              "min         0.000000              0.000000       0.000000       0.000000   \n",
              "25%         0.277778              0.091674       0.400000       0.560440   \n",
              "50%         0.361111              0.144659       1.000000       0.725275   \n",
              "75%         0.416667              0.224558       1.000000       0.813187   \n",
              "max         1.000000              1.000000       1.000000       1.000000   \n",
              "\n",
              "       number_of_borrowers  debt_to_income_ratio  borrower_credit_score  \\\n",
              "count        116058.000000         116058.000000          116058.000000   \n",
              "mean              0.593186              0.472100               0.916579   \n",
              "std               0.491242              0.154457               0.050251   \n",
              "min               0.000000              0.000000               0.000000   \n",
              "25%               0.000000              0.349206               0.894048   \n",
              "50%               1.000000              0.476190               0.930952   \n",
              "75%               1.000000              0.603175               0.952381   \n",
              "max               1.000000              1.000000               1.000000   \n",
              "\n",
              "       insurance_percent  co-borrower_credit_score  insurance_type  ...  \\\n",
              "count      116058.000000             116058.000000   116058.000000  ...   \n",
              "mean            0.069657                  0.549775        0.003257  ...   \n",
              "std             0.202412                  0.456874        0.056977  ...   \n",
              "min             0.000000                  0.000000        0.000000  ...   \n",
              "25%             0.000000                  0.000000        0.000000  ...   \n",
              "50%             0.000000                  0.885167        0.000000  ...   \n",
              "75%             0.000000                  0.946172        0.000000  ...   \n",
              "max             1.000000                  1.000000        1.000000  ...   \n",
              "\n",
              "                  m3             m4             m5             m6  \\\n",
              "count  116058.000000  116058.000000  116058.000000  116058.000000   \n",
              "mean        0.000395       0.000363       0.000505       0.000428   \n",
              "std         0.011085       0.010360       0.011805       0.010944   \n",
              "min         0.000000       0.000000       0.000000       0.000000   \n",
              "25%         0.000000       0.000000       0.000000       0.000000   \n",
              "50%         0.000000       0.000000       0.000000       0.000000   \n",
              "75%         0.000000       0.000000       0.000000       0.000000   \n",
              "max         1.000000       1.000000       1.000000       1.000000   \n",
              "\n",
              "                  m7             m8             m9            m10  \\\n",
              "count  116058.000000  116058.000000  116058.000000  116058.000000   \n",
              "mean        0.000462       0.000483       0.000487       0.000551   \n",
              "std         0.011218       0.011313       0.011658       0.012369   \n",
              "min         0.000000       0.000000       0.000000       0.000000   \n",
              "25%         0.000000       0.000000       0.000000       0.000000   \n",
              "50%         0.000000       0.000000       0.000000       0.000000   \n",
              "75%         0.000000       0.000000       0.000000       0.000000   \n",
              "max         1.000000       1.000000       1.000000       1.000000   \n",
              "\n",
              "                 m11            m12  \n",
              "count  116058.000000  116058.000000  \n",
              "mean        0.000547       0.000576  \n",
              "std         0.012530       0.012723  \n",
              "min         0.000000       0.000000  \n",
              "25%         0.000000       0.000000  \n",
              "50%         0.000000       0.000000  \n",
              "75%         0.000000       0.000000  \n",
              "max         1.000000       1.000000  \n",
              "\n",
              "[8 rows x 22 columns]"
            ],
            "text/html": [
              "\n",
              "  <div id=\"df-7f39c0cc-ea6b-4b61-bd85-37a32bb23512\">\n",
              "    <div class=\"colab-df-container\">\n",
              "      <div>\n",
              "<style scoped>\n",
              "    .dataframe tbody tr th:only-of-type {\n",
              "        vertical-align: middle;\n",
              "    }\n",
              "\n",
              "    .dataframe tbody tr th {\n",
              "        vertical-align: top;\n",
              "    }\n",
              "\n",
              "    .dataframe thead th {\n",
              "        text-align: right;\n",
              "    }\n",
              "</style>\n",
              "<table border=\"1\" class=\"dataframe\">\n",
              "  <thead>\n",
              "    <tr style=\"text-align: right;\">\n",
              "      <th></th>\n",
              "      <th>interest_rate</th>\n",
              "      <th>unpaid_principal_bal</th>\n",
              "      <th>loan_term</th>\n",
              "      <th>loan_to_value</th>\n",
              "      <th>number_of_borrowers</th>\n",
              "      <th>debt_to_income_ratio</th>\n",
              "      <th>borrower_credit_score</th>\n",
              "      <th>insurance_percent</th>\n",
              "      <th>co-borrower_credit_score</th>\n",
              "      <th>insurance_type</th>\n",
              "      <th>...</th>\n",
              "      <th>m3</th>\n",
              "      <th>m4</th>\n",
              "      <th>m5</th>\n",
              "      <th>m6</th>\n",
              "      <th>m7</th>\n",
              "      <th>m8</th>\n",
              "      <th>m9</th>\n",
              "      <th>m10</th>\n",
              "      <th>m11</th>\n",
              "      <th>m12</th>\n",
              "    </tr>\n",
              "  </thead>\n",
              "  <tbody>\n",
              "    <tr>\n",
              "      <th>count</th>\n",
              "      <td>116058.000000</td>\n",
              "      <td>116058.000000</td>\n",
              "      <td>116058.000000</td>\n",
              "      <td>116058.000000</td>\n",
              "      <td>116058.000000</td>\n",
              "      <td>116058.000000</td>\n",
              "      <td>116058.000000</td>\n",
              "      <td>116058.000000</td>\n",
              "      <td>116058.000000</td>\n",
              "      <td>116058.000000</td>\n",
              "      <td>...</td>\n",
              "      <td>116058.000000</td>\n",
              "      <td>116058.000000</td>\n",
              "      <td>116058.000000</td>\n",
              "      <td>116058.000000</td>\n",
              "      <td>116058.000000</td>\n",
              "      <td>116058.000000</td>\n",
              "      <td>116058.000000</td>\n",
              "      <td>116058.000000</td>\n",
              "      <td>116058.000000</td>\n",
              "      <td>116058.000000</td>\n",
              "    </tr>\n",
              "    <tr>\n",
              "      <th>mean</th>\n",
              "      <td>0.359769</td>\n",
              "      <td>0.165876</td>\n",
              "      <td>0.774270</td>\n",
              "      <td>0.675076</td>\n",
              "      <td>0.593186</td>\n",
              "      <td>0.472100</td>\n",
              "      <td>0.916579</td>\n",
              "      <td>0.069657</td>\n",
              "      <td>0.549775</td>\n",
              "      <td>0.003257</td>\n",
              "      <td>...</td>\n",
              "      <td>0.000395</td>\n",
              "      <td>0.000363</td>\n",
              "      <td>0.000505</td>\n",
              "      <td>0.000428</td>\n",
              "      <td>0.000462</td>\n",
              "      <td>0.000483</td>\n",
              "      <td>0.000487</td>\n",
              "      <td>0.000551</td>\n",
              "      <td>0.000547</td>\n",
              "      <td>0.000576</td>\n",
              "    </tr>\n",
              "    <tr>\n",
              "      <th>std</th>\n",
              "      <td>0.102449</td>\n",
              "      <td>0.096455</td>\n",
              "      <td>0.299208</td>\n",
              "      <td>0.190019</td>\n",
              "      <td>0.491242</td>\n",
              "      <td>0.154457</td>\n",
              "      <td>0.050251</td>\n",
              "      <td>0.202412</td>\n",
              "      <td>0.456874</td>\n",
              "      <td>0.056977</td>\n",
              "      <td>...</td>\n",
              "      <td>0.011085</td>\n",
              "      <td>0.010360</td>\n",
              "      <td>0.011805</td>\n",
              "      <td>0.010944</td>\n",
              "      <td>0.011218</td>\n",
              "      <td>0.011313</td>\n",
              "      <td>0.011658</td>\n",
              "      <td>0.012369</td>\n",
              "      <td>0.012530</td>\n",
              "      <td>0.012723</td>\n",
              "    </tr>\n",
              "    <tr>\n",
              "      <th>min</th>\n",
              "      <td>0.000000</td>\n",
              "      <td>0.000000</td>\n",
              "      <td>0.000000</td>\n",
              "      <td>0.000000</td>\n",
              "      <td>0.000000</td>\n",
              "      <td>0.000000</td>\n",
              "      <td>0.000000</td>\n",
              "      <td>0.000000</td>\n",
              "      <td>0.000000</td>\n",
              "      <td>0.000000</td>\n",
              "      <td>...</td>\n",
              "      <td>0.000000</td>\n",
              "      <td>0.000000</td>\n",
              "      <td>0.000000</td>\n",
              "      <td>0.000000</td>\n",
              "      <td>0.000000</td>\n",
              "      <td>0.000000</td>\n",
              "      <td>0.000000</td>\n",
              "      <td>0.000000</td>\n",
              "      <td>0.000000</td>\n",
              "      <td>0.000000</td>\n",
              "    </tr>\n",
              "    <tr>\n",
              "      <th>25%</th>\n",
              "      <td>0.277778</td>\n",
              "      <td>0.091674</td>\n",
              "      <td>0.400000</td>\n",
              "      <td>0.560440</td>\n",
              "      <td>0.000000</td>\n",
              "      <td>0.349206</td>\n",
              "      <td>0.894048</td>\n",
              "      <td>0.000000</td>\n",
              "      <td>0.000000</td>\n",
              "      <td>0.000000</td>\n",
              "      <td>...</td>\n",
              "      <td>0.000000</td>\n",
              "      <td>0.000000</td>\n",
              "      <td>0.000000</td>\n",
              "      <td>0.000000</td>\n",
              "      <td>0.000000</td>\n",
              "      <td>0.000000</td>\n",
              "      <td>0.000000</td>\n",
              "      <td>0.000000</td>\n",
              "      <td>0.000000</td>\n",
              "      <td>0.000000</td>\n",
              "    </tr>\n",
              "    <tr>\n",
              "      <th>50%</th>\n",
              "      <td>0.361111</td>\n",
              "      <td>0.144659</td>\n",
              "      <td>1.000000</td>\n",
              "      <td>0.725275</td>\n",
              "      <td>1.000000</td>\n",
              "      <td>0.476190</td>\n",
              "      <td>0.930952</td>\n",
              "      <td>0.000000</td>\n",
              "      <td>0.885167</td>\n",
              "      <td>0.000000</td>\n",
              "      <td>...</td>\n",
              "      <td>0.000000</td>\n",
              "      <td>0.000000</td>\n",
              "      <td>0.000000</td>\n",
              "      <td>0.000000</td>\n",
              "      <td>0.000000</td>\n",
              "      <td>0.000000</td>\n",
              "      <td>0.000000</td>\n",
              "      <td>0.000000</td>\n",
              "      <td>0.000000</td>\n",
              "      <td>0.000000</td>\n",
              "    </tr>\n",
              "    <tr>\n",
              "      <th>75%</th>\n",
              "      <td>0.416667</td>\n",
              "      <td>0.224558</td>\n",
              "      <td>1.000000</td>\n",
              "      <td>0.813187</td>\n",
              "      <td>1.000000</td>\n",
              "      <td>0.603175</td>\n",
              "      <td>0.952381</td>\n",
              "      <td>0.000000</td>\n",
              "      <td>0.946172</td>\n",
              "      <td>0.000000</td>\n",
              "      <td>...</td>\n",
              "      <td>0.000000</td>\n",
              "      <td>0.000000</td>\n",
              "      <td>0.000000</td>\n",
              "      <td>0.000000</td>\n",
              "      <td>0.000000</td>\n",
              "      <td>0.000000</td>\n",
              "      <td>0.000000</td>\n",
              "      <td>0.000000</td>\n",
              "      <td>0.000000</td>\n",
              "      <td>0.000000</td>\n",
              "    </tr>\n",
              "    <tr>\n",
              "      <th>max</th>\n",
              "      <td>1.000000</td>\n",
              "      <td>1.000000</td>\n",
              "      <td>1.000000</td>\n",
              "      <td>1.000000</td>\n",
              "      <td>1.000000</td>\n",
              "      <td>1.000000</td>\n",
              "      <td>1.000000</td>\n",
              "      <td>1.000000</td>\n",
              "      <td>1.000000</td>\n",
              "      <td>1.000000</td>\n",
              "      <td>...</td>\n",
              "      <td>1.000000</td>\n",
              "      <td>1.000000</td>\n",
              "      <td>1.000000</td>\n",
              "      <td>1.000000</td>\n",
              "      <td>1.000000</td>\n",
              "      <td>1.000000</td>\n",
              "      <td>1.000000</td>\n",
              "      <td>1.000000</td>\n",
              "      <td>1.000000</td>\n",
              "      <td>1.000000</td>\n",
              "    </tr>\n",
              "  </tbody>\n",
              "</table>\n",
              "<p>8 rows × 22 columns</p>\n",
              "</div>\n",
              "      <button class=\"colab-df-convert\" onclick=\"convertToInteractive('df-7f39c0cc-ea6b-4b61-bd85-37a32bb23512')\"\n",
              "              title=\"Convert this dataframe to an interactive table.\"\n",
              "              style=\"display:none;\">\n",
              "        \n",
              "  <svg xmlns=\"http://www.w3.org/2000/svg\" height=\"24px\"viewBox=\"0 0 24 24\"\n",
              "       width=\"24px\">\n",
              "    <path d=\"M0 0h24v24H0V0z\" fill=\"none\"/>\n",
              "    <path d=\"M18.56 5.44l.94 2.06.94-2.06 2.06-.94-2.06-.94-.94-2.06-.94 2.06-2.06.94zm-11 1L8.5 8.5l.94-2.06 2.06-.94-2.06-.94L8.5 2.5l-.94 2.06-2.06.94zm10 10l.94 2.06.94-2.06 2.06-.94-2.06-.94-.94-2.06-.94 2.06-2.06.94z\"/><path d=\"M17.41 7.96l-1.37-1.37c-.4-.4-.92-.59-1.43-.59-.52 0-1.04.2-1.43.59L10.3 9.45l-7.72 7.72c-.78.78-.78 2.05 0 2.83L4 21.41c.39.39.9.59 1.41.59.51 0 1.02-.2 1.41-.59l7.78-7.78 2.81-2.81c.8-.78.8-2.07 0-2.86zM5.41 20L4 18.59l7.72-7.72 1.47 1.35L5.41 20z\"/>\n",
              "  </svg>\n",
              "      </button>\n",
              "      \n",
              "  <style>\n",
              "    .colab-df-container {\n",
              "      display:flex;\n",
              "      flex-wrap:wrap;\n",
              "      gap: 12px;\n",
              "    }\n",
              "\n",
              "    .colab-df-convert {\n",
              "      background-color: #E8F0FE;\n",
              "      border: none;\n",
              "      border-radius: 50%;\n",
              "      cursor: pointer;\n",
              "      display: none;\n",
              "      fill: #1967D2;\n",
              "      height: 32px;\n",
              "      padding: 0 0 0 0;\n",
              "      width: 32px;\n",
              "    }\n",
              "\n",
              "    .colab-df-convert:hover {\n",
              "      background-color: #E2EBFA;\n",
              "      box-shadow: 0px 1px 2px rgba(60, 64, 67, 0.3), 0px 1px 3px 1px rgba(60, 64, 67, 0.15);\n",
              "      fill: #174EA6;\n",
              "    }\n",
              "\n",
              "    [theme=dark] .colab-df-convert {\n",
              "      background-color: #3B4455;\n",
              "      fill: #D2E3FC;\n",
              "    }\n",
              "\n",
              "    [theme=dark] .colab-df-convert:hover {\n",
              "      background-color: #434B5C;\n",
              "      box-shadow: 0px 1px 3px 1px rgba(0, 0, 0, 0.15);\n",
              "      filter: drop-shadow(0px 1px 2px rgba(0, 0, 0, 0.3));\n",
              "      fill: #FFFFFF;\n",
              "    }\n",
              "  </style>\n",
              "\n",
              "      <script>\n",
              "        const buttonEl =\n",
              "          document.querySelector('#df-7f39c0cc-ea6b-4b61-bd85-37a32bb23512 button.colab-df-convert');\n",
              "        buttonEl.style.display =\n",
              "          google.colab.kernel.accessAllowed ? 'block' : 'none';\n",
              "\n",
              "        async function convertToInteractive(key) {\n",
              "          const element = document.querySelector('#df-7f39c0cc-ea6b-4b61-bd85-37a32bb23512');\n",
              "          const dataTable =\n",
              "            await google.colab.kernel.invokeFunction('convertToInteractive',\n",
              "                                                     [key], {});\n",
              "          if (!dataTable) return;\n",
              "\n",
              "          const docLinkHtml = 'Like what you see? Visit the ' +\n",
              "            '<a target=\"_blank\" href=https://colab.research.google.com/notebooks/data_table.ipynb>data table notebook</a>'\n",
              "            + ' to learn more about interactive tables.';\n",
              "          element.innerHTML = '';\n",
              "          dataTable['output_type'] = 'display_data';\n",
              "          await google.colab.output.renderOutput(dataTable, element);\n",
              "          const docLink = document.createElement('div');\n",
              "          docLink.innerHTML = docLinkHtml;\n",
              "          element.appendChild(docLink);\n",
              "        }\n",
              "      </script>\n",
              "    </div>\n",
              "  </div>\n",
              "  "
            ]
          },
          "metadata": {},
          "execution_count": 177
        }
      ]
    },
    {
      "cell_type": "code",
      "source": [
        "x1.columns"
      ],
      "metadata": {
        "colab": {
          "base_uri": "https://localhost:8080/"
        },
        "id": "a-5JPzBQ9uDQ",
        "outputId": "65fb793b-94ee-44e0-df66-da4d335c4d18"
      },
      "execution_count": 178,
      "outputs": [
        {
          "output_type": "execute_result",
          "data": {
            "text/plain": [
              "Index(['interest_rate', 'unpaid_principal_bal', 'loan_term', 'loan_to_value',\n",
              "       'number_of_borrowers', 'debt_to_income_ratio', 'borrower_credit_score',\n",
              "       'insurance_percent', 'co-borrower_credit_score', 'insurance_type', 'm1',\n",
              "       'm2', 'm3', 'm4', 'm5', 'm6', 'm7', 'm8', 'm9', 'm10', 'm11', 'm12'],\n",
              "      dtype='object')"
            ]
          },
          "metadata": {},
          "execution_count": 178
        }
      ]
    },
    {
      "cell_type": "code",
      "source": [
        "x2=pd.concat([df1_enc,x1,z],axis=1)"
      ],
      "metadata": {
        "id": "rgIzAPr9JwQb"
      },
      "execution_count": 179,
      "outputs": []
    },
    {
      "cell_type": "code",
      "source": [
        "x2.columns"
      ],
      "metadata": {
        "id": "Ubfo6scxO6tw"
      },
      "execution_count": null,
      "outputs": []
    },
    {
      "cell_type": "code",
      "source": [
        "X=x2.drop('m13',axis=1)\n",
        "y=x2['m13']"
      ],
      "metadata": {
        "id": "gXxbx8mdQN7s"
      },
      "execution_count": 183,
      "outputs": []
    },
    {
      "cell_type": "markdown",
      "source": [
        "#Hold Out technique "
      ],
      "metadata": {
        "id": "afO-63RN96mK"
      }
    },
    {
      "cell_type": "code",
      "source": [
        "from sklearn.model_selection import train_test_split"
      ],
      "metadata": {
        "id": "th7L3Skc93Vp"
      },
      "execution_count": 184,
      "outputs": []
    },
    {
      "cell_type": "code",
      "source": [
        "x_train,x_test,y_train,y_test=train_test_split(X,y,test_size=0.2,random_state=42)"
      ],
      "metadata": {
        "id": "RQkkNG8J9_KE"
      },
      "execution_count": 185,
      "outputs": []
    },
    {
      "cell_type": "markdown",
      "source": [
        "#1.Logistic Regression Model"
      ],
      "metadata": {
        "id": "HwPI0MAyapMq"
      }
    },
    {
      "cell_type": "code",
      "source": [
        "from sklearn.linear_model import LogisticRegression"
      ],
      "metadata": {
        "id": "OILwmMUn-Azl"
      },
      "execution_count": 186,
      "outputs": []
    },
    {
      "cell_type": "code",
      "source": [
        "lr=LogisticRegression(max_iter=1000)\n",
        "lr_model=lr.fit(x_train,y_train)"
      ],
      "metadata": {
        "id": "dip8XOzf-COq"
      },
      "execution_count": 187,
      "outputs": []
    },
    {
      "cell_type": "code",
      "source": [
        "score_lr=lr_model.score(x_test,y_test)"
      ],
      "metadata": {
        "id": "oLgGmdeL-GVB"
      },
      "execution_count": 188,
      "outputs": []
    },
    {
      "cell_type": "code",
      "source": [
        "score_lr"
      ],
      "metadata": {
        "colab": {
          "base_uri": "https://localhost:8080/"
        },
        "id": "1gx5ECay-IxA",
        "outputId": "55d5253a-acf3-48e1-8709-f4e3c6272567"
      },
      "execution_count": 189,
      "outputs": [
        {
          "output_type": "execute_result",
          "data": {
            "text/plain": [
              "0.9953903153541271"
            ]
          },
          "metadata": {},
          "execution_count": 189
        }
      ]
    },
    {
      "cell_type": "markdown",
      "source": [
        "#a) K fold Cross Validation of Logistic Regression Model"
      ],
      "metadata": {
        "id": "AqihHgEI-MzK"
      }
    },
    {
      "cell_type": "code",
      "source": [
        "from sklearn.model_selection import KFold"
      ],
      "metadata": {
        "id": "gZe21hrm-McT"
      },
      "execution_count": 190,
      "outputs": []
    },
    {
      "cell_type": "code",
      "source": [
        "kfold_validator=KFold(10)#no of folds="
      ],
      "metadata": {
        "id": "TFrz3R04-RIc"
      },
      "execution_count": 191,
      "outputs": []
    },
    {
      "cell_type": "code",
      "source": [
        "from sklearn.utils import shuffle#Using shuffle() method of scikit-learn, in order to shuffle a DataFrame"
      ],
      "metadata": {
        "id": "YzcGPB-YWVfl"
      },
      "execution_count": 192,
      "outputs": []
    },
    {
      "cell_type": "code",
      "source": [
        "X, y = shuffle(X, y, random_state=42)#shuffling the X and y to avoid the fit failed warning error generated as valueerror: this solver needs samples of at least 2 classes in the data, but the data contains only one class: 0.0"
      ],
      "metadata": {
        "id": "vwfNUCahVs91"
      },
      "execution_count": 193,
      "outputs": []
    },
    {
      "cell_type": "code",
      "source": [
        "for train_index,test_index in kfold_validator.split(X,y):\n",
        "  print('Training Index',train_index)\n",
        "  print('Testing Index',test_index)"
      ],
      "metadata": {
        "id": "r2gz1aIP-Soh"
      },
      "execution_count": null,
      "outputs": []
    },
    {
      "cell_type": "code",
      "source": [
        "from sklearn.model_selection import cross_val_score"
      ],
      "metadata": {
        "id": "nn8iuhgw-VoZ"
      },
      "execution_count": 195,
      "outputs": []
    },
    {
      "cell_type": "code",
      "source": [
        "cv_result=cross_val_score(lr_model,X,y,cv=kfold_validator)"
      ],
      "metadata": {
        "id": "1m2Oyae--X9h"
      },
      "execution_count": 196,
      "outputs": []
    },
    {
      "cell_type": "code",
      "source": [
        "cv_result"
      ],
      "metadata": {
        "colab": {
          "base_uri": "https://localhost:8080/"
        },
        "id": "WkaUbMqD-Z92",
        "outputId": "96beb918-d68f-4bfd-dd4f-c12932b0ba99"
      },
      "execution_count": 197,
      "outputs": [
        {
          "output_type": "execute_result",
          "data": {
            "text/plain": [
              "array([0.99534723, 0.99569188, 0.99500258, 0.99517491, 0.99586421,\n",
              "       0.99508875, 0.99586421, 0.99603653, 0.99474364, 0.99551917])"
            ]
          },
          "metadata": {},
          "execution_count": 197
        }
      ]
    },
    {
      "cell_type": "code",
      "source": [
        "np.mean(cv_result)"
      ],
      "metadata": {
        "colab": {
          "base_uri": "https://localhost:8080/"
        },
        "id": "nY8hQ6va-fqi",
        "outputId": "2f09d43b-3b7e-4fd8-ac3d-64fe3a8998c9"
      },
      "execution_count": 198,
      "outputs": [
        {
          "output_type": "execute_result",
          "data": {
            "text/plain": [
              "0.9954333126212112"
            ]
          },
          "metadata": {},
          "execution_count": 198
        }
      ]
    },
    {
      "cell_type": "markdown",
      "source": [
        "#b) Stratified Cross Validation of Logistic Regression Model"
      ],
      "metadata": {
        "id": "s2VO7b7v-uKE"
      }
    },
    {
      "cell_type": "code",
      "source": [
        "from sklearn.model_selection import StratifiedKFold"
      ],
      "metadata": {
        "id": "oZIFcffw-wCF"
      },
      "execution_count": 199,
      "outputs": []
    },
    {
      "cell_type": "code",
      "source": [
        "skfold_validator=StratifiedKFold(n_splits=6)#no of folds=6"
      ],
      "metadata": {
        "id": "8fzJmtkt-xvx"
      },
      "execution_count": 200,
      "outputs": []
    },
    {
      "cell_type": "code",
      "source": [
        "for train_index,test_index in skfold_validator.split(X,y):\n",
        "  print('Training Index',train_index)\n",
        "  print('Testing Index',test_index)"
      ],
      "metadata": {
        "id": "i4yJSurc-0f7"
      },
      "execution_count": null,
      "outputs": []
    },
    {
      "cell_type": "code",
      "source": [
        "skcv_result=cross_val_score(lr_model,X,y,cv=skfold_validator)"
      ],
      "metadata": {
        "id": "DWf8beh0-3x5"
      },
      "execution_count": 202,
      "outputs": []
    },
    {
      "cell_type": "code",
      "source": [
        "skcv_result"
      ],
      "metadata": {
        "colab": {
          "base_uri": "https://localhost:8080/"
        },
        "id": "KWTk_coL-7Cp",
        "outputId": "f53674ee-9c33-4587-c0c8-dec61e061bbf"
      },
      "execution_count": 203,
      "outputs": [
        {
          "output_type": "execute_result",
          "data": {
            "text/plain": [
              "array([0.99550225, 0.99529546, 0.99524376, 0.99519206, 0.99560565,\n",
              "       0.99524376])"
            ]
          },
          "metadata": {},
          "execution_count": 203
        }
      ]
    },
    {
      "cell_type": "code",
      "source": [
        "np.mean(skcv_result)"
      ],
      "metadata": {
        "colab": {
          "base_uri": "https://localhost:8080/"
        },
        "id": "Ys9SIEQT-9Yv",
        "outputId": "dbad1342-ac98-4a4f-8207-d23be47cab77"
      },
      "execution_count": 204,
      "outputs": [
        {
          "output_type": "execute_result",
          "data": {
            "text/plain": [
              "0.9953471540092024"
            ]
          },
          "metadata": {},
          "execution_count": 204
        }
      ]
    },
    {
      "cell_type": "markdown",
      "source": [
        "#2.SVM Model"
      ],
      "metadata": {
        "id": "RF5s3SY4TR6l"
      }
    },
    {
      "cell_type": "code",
      "source": [
        "from sklearn.svm import SVC#support vector classifier"
      ],
      "metadata": {
        "id": "RcVOjM_iTWDX"
      },
      "execution_count": 205,
      "outputs": []
    },
    {
      "cell_type": "code",
      "source": [
        "svm_clf=SVC(kernel='rbf')#kernel choosen is rbf(default)"
      ],
      "metadata": {
        "id": "iZyi9SUNTanf"
      },
      "execution_count": 206,
      "outputs": []
    },
    {
      "cell_type": "code",
      "source": [
        "svm_model=svm_clf.fit(x_train,y_train)#Hold Out method"
      ],
      "metadata": {
        "id": "m1YymbuRTc-g"
      },
      "execution_count": 207,
      "outputs": []
    },
    {
      "cell_type": "code",
      "source": [
        "y_pred_svm=svm_model.predict(x_test)"
      ],
      "metadata": {
        "id": "lcmVNKEMTfBe"
      },
      "execution_count": 208,
      "outputs": []
    },
    {
      "cell_type": "code",
      "source": [
        "#for classification algorithm models validation checking confusion matrix,accuracy score,precision score and recall score can be used\n",
        "from sklearn.metrics import confusion_matrix,precision_score,recall_score,f1_score,accuracy_score"
      ],
      "metadata": {
        "id": "Vhw_0NFdVSPh"
      },
      "execution_count": 209,
      "outputs": []
    },
    {
      "cell_type": "code",
      "source": [
        "confusion_matrix(y_test,y_pred_svm)#confusion matrix of svm model"
      ],
      "metadata": {
        "colab": {
          "base_uri": "https://localhost:8080/"
        },
        "id": "RNP3EZA4ThMJ",
        "outputId": "c1dffbb6-773c-4fe0-cbf6-c5d7e17c4b39"
      },
      "execution_count": 210,
      "outputs": [
        {
          "output_type": "execute_result",
          "data": {
            "text/plain": [
              "array([[23084,     0],\n",
              "       [  113,    15]])"
            ]
          },
          "metadata": {},
          "execution_count": 210
        }
      ]
    },
    {
      "cell_type": "code",
      "source": [
        "accuracy_score(y_test,y_pred_svm)#accuracy score "
      ],
      "metadata": {
        "colab": {
          "base_uri": "https://localhost:8080/"
        },
        "id": "dSxGNmskTjRD",
        "outputId": "15b462c6-305e-452d-9992-1729ccec6d43"
      },
      "execution_count": 211,
      "outputs": [
        {
          "output_type": "execute_result",
          "data": {
            "text/plain": [
              "0.995131828364639"
            ]
          },
          "metadata": {},
          "execution_count": 211
        }
      ]
    },
    {
      "cell_type": "markdown",
      "source": [
        "#a) K FOLD Cross Validation of SVM Model"
      ],
      "metadata": {
        "id": "YWYXo63FTmx2"
      }
    },
    {
      "cell_type": "code",
      "source": [
        "kfold_validator_svm=KFold(6)#no of folds=10"
      ],
      "metadata": {
        "id": "56RDqk1YTnoM"
      },
      "execution_count": 212,
      "outputs": []
    },
    {
      "cell_type": "code",
      "source": [
        "for train_index,test_index in kfold_validator_svm.split(X,y):\n",
        "  print('Training Index',train_index)\n",
        "  print('Testing Index',test_index)"
      ],
      "metadata": {
        "id": "iXQkuokzTrZt"
      },
      "execution_count": null,
      "outputs": []
    },
    {
      "cell_type": "code",
      "source": [
        "cv_result_svm=cross_val_score(svm_model,X,y,cv=kfold_validator_svm)"
      ],
      "metadata": {
        "id": "2XQ_O1x3TyKu"
      },
      "execution_count": 214,
      "outputs": []
    },
    {
      "cell_type": "code",
      "source": [
        "cv_result_svm"
      ],
      "metadata": {
        "colab": {
          "base_uri": "https://localhost:8080/"
        },
        "id": "SVHHKmdaT1dA",
        "outputId": "12feabec-8f9b-4887-95b0-900f9b77aa67"
      },
      "execution_count": 215,
      "outputs": [
        {
          "output_type": "execute_result",
          "data": {
            "text/plain": [
              "array([0.99503696, 0.99514036, 0.99508866, 0.99498527, 0.99560565,\n",
              "       0.99426149])"
            ]
          },
          "metadata": {},
          "execution_count": 215
        }
      ]
    },
    {
      "cell_type": "code",
      "source": [
        "np.mean(cv_result_svm)"
      ],
      "metadata": {
        "colab": {
          "base_uri": "https://localhost:8080/"
        },
        "id": "3kgVZbo9T3Ko",
        "outputId": "f4361952-abfe-401b-d03b-d300368a97b8"
      },
      "execution_count": 216,
      "outputs": [
        {
          "output_type": "execute_result",
          "data": {
            "text/plain": [
              "0.9950197315135535"
            ]
          },
          "metadata": {},
          "execution_count": 216
        }
      ]
    },
    {
      "cell_type": "markdown",
      "source": [
        "#b) Stratified Cross Validation of SVM Model"
      ],
      "metadata": {
        "id": "2iYVjuJgUprT"
      }
    },
    {
      "cell_type": "code",
      "source": [
        "skfold_validator_svm=StratifiedKFold(n_splits=10)#no of folds=10"
      ],
      "metadata": {
        "id": "9wNAL6WbUr8H"
      },
      "execution_count": 217,
      "outputs": []
    },
    {
      "cell_type": "code",
      "source": [
        "for train_index,test_index in skfold_validator_svm.split(X,y):\n",
        "  print('Training Index',train_index)\n",
        "  print('Testing Index',test_index)"
      ],
      "metadata": {
        "id": "_j73Py-fUtjA"
      },
      "execution_count": null,
      "outputs": []
    },
    {
      "cell_type": "code",
      "source": [
        "skcv_result_svm=cross_val_score(svm_model,X,y,cv=skfold_validator_svm)"
      ],
      "metadata": {
        "id": "734CGmXvUwC2"
      },
      "execution_count": 219,
      "outputs": []
    },
    {
      "cell_type": "code",
      "source": [
        "skcv_result_svm"
      ],
      "metadata": {
        "colab": {
          "base_uri": "https://localhost:8080/"
        },
        "id": "k9qrOe8SUzan",
        "outputId": "e28ecad6-449e-421d-b366-edb9fec45431"
      },
      "execution_count": 220,
      "outputs": [
        {
          "output_type": "execute_result",
          "data": {
            "text/plain": [
              "array([0.99526107, 0.99517491, 0.99517491, 0.99491642, 0.99491642,\n",
              "       0.99500258, 0.99483026, 0.99534723, 0.99474364, 0.99491598])"
            ]
          },
          "metadata": {},
          "execution_count": 220
        }
      ]
    },
    {
      "cell_type": "code",
      "source": [
        "np.mean(skcv_result_svm)"
      ],
      "metadata": {
        "colab": {
          "base_uri": "https://localhost:8080/"
        },
        "id": "3zzlnr8tU1BA",
        "outputId": "7adda947-e670-45e6-d78d-5a0f9a551cca"
      },
      "execution_count": 221,
      "outputs": [
        {
          "output_type": "execute_result",
          "data": {
            "text/plain": [
              "0.9950283444738022"
            ]
          },
          "metadata": {},
          "execution_count": 221
        }
      ]
    },
    {
      "cell_type": "markdown",
      "source": [
        "#Conclusion:-"
      ],
      "metadata": {
        "id": "Two6jkYFdSzt"
      }
    },
    {
      "cell_type": "code",
      "source": [
        "print('THE AVERAGE K FOLD CROSS VALIDATION SCORE OF LOGISTIC REGRESSION MODEL IS:',np.mean(cv_result))\n",
        "print('\\n')\n",
        "print('THE AVERAGE K FOLD CROSS VALIDATION SCORE OF SVM MODEL IS:',np.mean(cv_result_svm))\n",
        "print('\\n')\n",
        "print('THE AVERAGE STRATIFIED CROSS VALIDATION SCORE OF LOGISTIC REGRESSION :',np.mean(skcv_result))\n",
        "print('\\n')\n",
        "print('THE AVERAGE STRATIFIED CROSS VALIDATION SCORE OF SVM MODEL IS:',np.mean(skcv_result_svm))\n"
      ],
      "metadata": {
        "colab": {
          "base_uri": "https://localhost:8080/"
        },
        "id": "QI179Pv3aRxu",
        "outputId": "f577d64d-095e-4802-bb32-87587cf19ee9"
      },
      "execution_count": 225,
      "outputs": [
        {
          "output_type": "stream",
          "name": "stdout",
          "text": [
            "THE AVERAGE K FOLD CROSS VALIDATION SCORE OF LOGISTIC REGRESSION MODEL IS: 0.9954333126212112\n",
            "\n",
            "\n",
            "THE AVERAGE K FOLD CROSS VALIDATION SCORE OF SVM MODEL IS: 0.9950197315135535\n",
            "\n",
            "\n",
            "THE AVERAGE STRATIFIED CROSS VALIDATION SCORE OF LOGISTIC REGRESSION : 0.9953471540092024\n",
            "\n",
            "\n",
            "THE AVERAGE STRATIFIED CROSS VALIDATION SCORE OF SVM MODEL IS: 0.9950283444738022\n"
          ]
        }
      ]
    },
    {
      "cell_type": "markdown",
      "source": [
        "#a) The Averages of both K Fold Cross Validation scores and Stratified Cross Validation scores are seems to be same for both Logistic Regression Model and SVM Model.\n",
        "\n",
        "#b) So the performance of both Logistic Regression Model and SVM Model are same on Loan dataset."
      ],
      "metadata": {
        "id": "Bz8LcYswcNHG"
      }
    }
  ]
}